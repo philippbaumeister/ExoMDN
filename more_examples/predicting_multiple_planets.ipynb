{
 "cells": [
  {
   "cell_type": "markdown",
   "metadata": {
    "collapsed": true
   },
   "source": [
    "# Predicting multiple planets\n",
    "\n",
    "In this notebook we will show how manually load an MDN model and perform an interior characterization of several planets at once"
   ]
  },
  {
   "cell_type": "code",
   "metadata": {
    "ExecuteTime": {
     "end_time": "2025-08-06T13:57:04.159132Z",
     "start_time": "2025-08-06T13:57:02.910327Z"
    }
   },
   "source": [
    "from exomdn import ExoMDN\n",
    "from exomdn.plotting import cornerplot\n",
    "import warnings\n",
    "warnings.simplefilter(action=\"ignore\", category=FutureWarning)"
   ],
   "outputs": [
    {
     "name": "stderr",
     "output_type": "stream",
     "text": [
      "2025-08-06 15:57:02.940298: I tensorflow/core/platform/cpu_feature_guard.cc:193] This TensorFlow binary is optimized with oneAPI Deep Neural Network Library (oneDNN) to use the following CPU instructions in performance-critical operations:  SSE4.1 SSE4.2 AVX AVX2 AVX_VNNI FMA\n",
      "To enable them in other operations, rebuild TensorFlow with the appropriate compiler flags.\n",
      "2025-08-06 15:57:02.972644: I tensorflow/core/util/port.cc:104] oneDNN custom operations are on. You may see slightly different numerical results due to floating-point round-off errors from different computation orders. To turn them off, set the environment variable `TF_ENABLE_ONEDNN_OPTS=0`.\n"
     ]
    }
   ],
   "execution_count": 1
  },
  {
   "cell_type": "code",
   "metadata": {
    "ExecuteTime": {
     "end_time": "2025-08-06T13:57:04.724675Z",
     "start_time": "2025-08-06T13:57:04.318271Z"
    }
   },
   "source": [
    "exo = ExoMDN(model_path=\"../models\", data_path=\"../data\")\n",
    "exo.load_model(\"../models/mass_radius_Teq/\")  # Load the mass-radius model"
   ],
   "outputs": [
    {
     "name": "stdout",
     "output_type": "stream",
     "text": [
      "Loaded model 'mass_radius_Teq'\n",
      "=================================================================\n",
      "Model architecture:\n",
      "\n",
      "Model: \"MDN\"\n",
      "_________________________________________________________________\n",
      " Layer (type)                Output Shape              Param #   \n",
      "=================================================================\n",
      " relu_0 (Dense)              (None, 384)               1536      \n",
      "                                                                 \n",
      " relu_1 (Dense)              (None, 384)               147840    \n",
      "                                                                 \n",
      " relu_2 (Dense)              (None, 384)               147840    \n",
      "                                                                 \n",
      " output_mdn (MDN)            (None, 650)               250250    \n",
      "                                                                 \n",
      "=================================================================\n",
      "Total params: 547,466\n",
      "Trainable params: 547,466\n",
      "Non-trainable params: 0\n",
      "_________________________________________________________________\n"
     ]
    }
   ],
   "execution_count": 2
  },
  {
   "cell_type": "markdown",
   "metadata": {
    "ExecuteTime": {
     "end_time": "2023-02-08T16:22:39.255137Z",
     "start_time": "2023-02-08T16:22:39.236368Z"
    }
   },
   "source": [
    "# Preparing planet data"
   ]
  },
  {
   "cell_type": "code",
   "metadata": {
    "ExecuteTime": {
     "end_time": "2025-08-06T13:57:09.401605Z",
     "start_time": "2025-08-06T13:57:09.381199Z"
    }
   },
   "source": [
    "# First check the order of MDN inputs\n",
    "exo.model.inputs"
   ],
   "outputs": [
    {
     "data": {
      "text/plain": [
       "['planet_mass', 'planet_radius', 'T_eq']"
      ]
     },
     "execution_count": 3,
     "metadata": {},
     "output_type": "execute_result"
    }
   ],
   "execution_count": 3
  },
  {
   "cell_type": "code",
   "metadata": {
    "ExecuteTime": {
     "end_time": "2025-08-06T13:57:20.108133Z",
     "start_time": "2025-08-06T13:57:20.100530Z"
    }
   },
   "source": [
    "planets = [[1.374, 1.116, 400], # TRAPPIST-1 b\n",
    "           [1.308, 1.097, 342], # TRAPPIST-1 c\n",
    "           [0.388, 0.788, 288], # TRAPPIST-1 d\n",
    "           [0.692, 0.920, 251], # TRAPPIST-1 e\n",
    "           [1.039, 1.045, 219], # TRAPPIST-1 f\n",
    "           [1.321, 1.129, 199], # TRAPPIST-1 g\n",
    "           [1, 1, 255]] # Earth"
   ],
   "outputs": [],
   "execution_count": 5
  },
  {
   "cell_type": "code",
   "metadata": {
    "scrolled": true,
    "ExecuteTime": {
     "end_time": "2025-08-06T13:57:21.544191Z",
     "start_time": "2025-08-06T13:57:20.728476Z"
    }
   },
   "source": [
    "prediction, mixture, input_prompt = exo.predict(x=planets, samples=5000)\n",
    "prediction[\"prediction\"].replace({0: \"TRAPPIST-1 b\", 1: \"TRAPPIST-1 c\", 2: \"TRAPPIST-1 d\", 3: \"TRAPPIST-1 e\", 4: \"TRAPPIST-1 f\", 5: \"TRAPPIST-1 g\", 6: \"Earth\"}, inplace=True)"
   ],
   "outputs": [
    {
     "name": "stdout",
     "output_type": "stream",
     "text": [
      "Running prediction (n=7)\n",
      "1/1 [==============================] - 0s 70ms/step\n",
      "Sampling from mixture (7x5000 samples)\n"
     ]
    }
   ],
   "execution_count": 6
  },
  {
   "cell_type": "markdown",
   "metadata": {},
   "source": [
    "# Visualization\n",
    "\n",
    "Using seaborn FacetGrid to plot the core radius fraction for all planets in one figure"
   ]
  },
  {
   "cell_type": "code",
   "metadata": {
    "ExecuteTime": {
     "end_time": "2025-08-06T13:57:23.020234Z",
     "start_time": "2025-08-06T13:57:23.014488Z"
    }
   },
   "source": [
    "import seaborn as sns\n",
    "import matplotlib.pyplot as plt"
   ],
   "outputs": [],
   "execution_count": 7
  },
  {
   "cell_type": "code",
   "metadata": {
    "ExecuteTime": {
     "end_time": "2025-08-06T14:24:42.572909Z",
     "start_time": "2025-08-06T14:24:41.331813Z"
    }
   },
   "source": [
    "# Plot core radius fraction\n",
    "# following https://seaborn.pydata.org/examples/kde_ridgeplot\n",
    "\n",
    "g = sns.FacetGrid(prediction, row=\"prediction\", hue=\"prediction\", aspect=15, height=.5, palette=\"plasma_r\")\n",
    "\n",
    "# Draw densities for each planet\n",
    "g.map(sns.kdeplot, \"core_rf\", fill=True, alpha=1, linewidth=1.5, clip_on=False)\n",
    "\n",
    "# passing color=None to refline() uses the hue mapping\n",
    "g.refline(y=0, linewidth=1, linestyle=\"-\", color=None, clip_on=False)\n",
    "g.set(xlim=(0,1))\n",
    "\n",
    "\n",
    "# Define and use a simple function to label the plot in axes coordinates\n",
    "def label(x, color, label):\n",
    "    ax = plt.gca()\n",
    "    ax.text(0, .5, label, fontweight=\"bold\", color=color, ha=\"left\", va=\"center\", transform=ax.transAxes)\n",
    "\n",
    "g.map(label, \"core_rf\")\n",
    "\n",
    "# Set the subplots to overlap\n",
    "g.figure.subplots_adjust(hspace=0.5)\n",
    "g.set_titles(\"\")\n",
    "g.set(yticks=[], ylabel=\"\", xlabel=\"$d_{Core}$\")\n",
    "g.despine(bottom=True, left=True)"
   ],
   "outputs": [
    {
     "data": {
      "text/plain": [
       "<seaborn.axisgrid.FacetGrid at 0x7af123583f40>"
      ]
     },
     "execution_count": 9,
     "metadata": {},
     "output_type": "execute_result"
    },
    {
     "data": {
      "text/plain": [
       "<Figure size 750x350 with 7 Axes>"
      ],
      "image/png": "[encoded data removed]"
     },
     "metadata": {},
     "output_type": "display_data"
    }
   ],
   "execution_count": 9
  },
  {
   "cell_type": "code",
   "execution_count": null,
   "metadata": {},
   "outputs": [],
   "source": []
  }
 ],
 "metadata": {
  "kernelspec": {
   "display_name": "Python 3 (ipykernel)",
   "language": "python",
   "name": "python3"
  },
  "language_info": {
   "codemirror_mode": {
    "name": "ipython",
    "version": 3
   },
   "file_extension": ".py",
   "mimetype": "text/x-python",
   "name": "python",
   "nbconvert_exporter": "python",
   "pygments_lexer": "ipython3",
   "version": "3.10.9"
  },
  "toc": {
   "base_numbering": 1,
   "nav_menu": {},
   "number_sections": true,
   "sideBar": true,
   "skip_h1_title": false,
   "title_cell": "Table of Contents",
   "title_sidebar": "Contents",
   "toc_cell": false,
   "toc_position": {},
   "toc_section_display": true,
   "toc_window_display": false
  }
 },
 "nbformat": 4,
 "nbformat_minor": 1
}
