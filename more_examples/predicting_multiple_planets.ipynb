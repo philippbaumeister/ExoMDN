{
 "cells": [
  {
   "cell_type": "markdown",
   "metadata": {
    "collapsed": true
   },
   "source": [
    "# Predicting multiple planets\n",
    "\n",
    "In this notebook we will show how manually load an MDN model and perform an interior characterization of several planets at once"
   ]
  },
  {
   "cell_type": "code",
   "execution_count": 106,
   "metadata": {
    "ExecuteTime": {
     "end_time": "2023-02-09T09:42:13.650284Z",
     "start_time": "2023-02-09T09:42:13.639942Z"
    }
   },
   "outputs": [],
   "source": [
    "from exomdn.mdn_model import Model\n",
    "from exomdn.plotting import cornerplot\n",
    "import warnings\n",
    "warnings.simplefilter(action=\"ignore\", category=FutureWarning)"
   ]
  },
  {
   "cell_type": "code",
   "execution_count": 4,
   "metadata": {
    "ExecuteTime": {
     "end_time": "2023-02-08T16:36:13.381165Z",
     "start_time": "2023-02-08T16:36:13.038102Z"
    }
   },
   "outputs": [
    {
     "name": "stdout",
     "output_type": "stream",
     "text": [
      "Loaded model 'mass_radius_Teq'\n",
      "=================================================================\n",
      "Model architecture:\n",
      "\n",
      "Model: \"MDN\"\n",
      "_________________________________________________________________\n",
      " Layer (type)                Output Shape              Param #   \n",
      "=================================================================\n",
      " relu_0 (Dense)              (None, 384)               1536      \n",
      "                                                                 \n",
      " relu_1 (Dense)              (None, 384)               147840    \n",
      "                                                                 \n",
      " relu_2 (Dense)              (None, 384)               147840    \n",
      "                                                                 \n",
      " output_mdn (MDN)            (None, 650)               250250    \n",
      "                                                                 \n",
      "=================================================================\n",
      "Total params: 547,466\n",
      "Trainable params: 547,466\n",
      "Non-trainable params: 0\n",
      "_________________________________________________________________\n"
     ]
    }
   ],
   "source": [
    "model = Model(\"../models/mass_radius_Teq/\")"
   ]
  },
  {
   "cell_type": "markdown",
   "metadata": {
    "ExecuteTime": {
     "end_time": "2023-02-08T16:22:39.255137Z",
     "start_time": "2023-02-08T16:22:39.236368Z"
    }
   },
   "source": [
    "# Preparing planet data"
   ]
  },
  {
   "cell_type": "code",
   "execution_count": 6,
   "metadata": {
    "ExecuteTime": {
     "end_time": "2023-02-08T16:36:17.942636Z",
     "start_time": "2023-02-08T16:36:17.937084Z"
    }
   },
   "outputs": [
    {
     "data": {
      "text/plain": [
       "['planet_mass', 'planet_radius', 'T_eq']"
      ]
     },
     "execution_count": 6,
     "metadata": {},
     "output_type": "execute_result"
    }
   ],
   "source": [
    "# First check the order of MDN inputs\n",
    "model.inputs"
   ]
  },
  {
   "cell_type": "code",
   "execution_count": 127,
   "metadata": {
    "ExecuteTime": {
     "end_time": "2023-02-09T09:59:19.077168Z",
     "start_time": "2023-02-09T09:59:19.070980Z"
    }
   },
   "outputs": [],
   "source": [
    "planets = [[1.374, 1.116, 400], # TRAPPIST-1 b\n",
    "           [1.308, 1.097, 342], # TRAPPIST-1 c\n",
    "           [0.388, 0.788, 288], # TRAPPIST-1 d\n",
    "           [0.692, 0.920, 251], # TRAPPIST-1 e\n",
    "           [1.039, 1.045, 219], # TRAPPIST-1 f\n",
    "           [1.321, 1.129, 199], # TRAPPIST-1 g\n",
    "           [1, 1, 255]] # Earth "
   ]
  },
  {
   "cell_type": "code",
   "execution_count": 128,
   "metadata": {
    "ExecuteTime": {
     "end_time": "2023-02-09T09:59:20.661463Z",
     "start_time": "2023-02-09T09:59:19.467147Z"
    },
    "scrolled": true
   },
   "outputs": [
    {
     "name": "stdout",
     "output_type": "stream",
     "text": [
      "Running prediction (n=7):\n",
      "1/1 [==============================] - 0s 21ms/step\n",
      "Sampling from mixture (7x5000 samples):\n"
     ]
    }
   ],
   "source": [
    "prediction, mixture, input_prompt = model.predict(x=planets, samples=5000)\n",
    "prediction[\"prediction\"].replace({0: \"TRAPPIST-1 b\", 1: \"TRAPPIST-1 c\", 2: \"TRAPPIST-1 d\", 3: \"TRAPPIST-1 e\", 4: \"TRAPPIST-1 f\", 5: \"TRAPPIST-1 g\", 6: \"Earth\"}, inplace=True)"
   ]
  },
  {
   "cell_type": "markdown",
   "metadata": {},
   "source": [
    "# Visualization\n",
    "\n",
    "Using seaborn FacetGrid to plot the core radius fraction for all planets in one figure "
   ]
  },
  {
   "cell_type": "code",
   "execution_count": 124,
   "metadata": {
    "ExecuteTime": {
     "end_time": "2023-02-09T09:48:24.810132Z",
     "start_time": "2023-02-09T09:48:24.805437Z"
    }
   },
   "outputs": [],
   "source": [
    "import seaborn as sns\n",
    "import matplotlib.pyplot as plt"
   ]
  },
  {
   "cell_type": "code",
   "execution_count": 129,
   "metadata": {
    "ExecuteTime": {
     "end_time": "2023-02-09T09:59:26.096307Z",
     "start_time": "2023-02-09T09:59:23.085678Z"
    }
   },
   "outputs": [
    {
     "data": {
      "text/plain": [
       "<seaborn.axisgrid.FacetGrid at 0x7f1260aaf5e0>"
      ]
     },
     "execution_count": 129,
     "metadata": {},
     "output_type": "execute_result"
    },
    {
     "data": {
      "image/png": "[encoded data removed]",
      "text/plain": [
       "<Figure size 750x350 with 7 Axes>"
      ]
     },
     "metadata": {},
     "output_type": "display_data"
    }
   ],
   "source": [
    "# Plot core radius fraction\n",
    "# following https://seaborn.pydata.org/examples/kde_ridgeplot\n",
    "\n",
    "g = sns.FacetGrid(prediction, row=\"prediction\", hue=\"prediction\", aspect=15, height=.5, palette=\"plasma_r\")\n",
    "\n",
    "# Draw densities for each planet\n",
    "g.map(sns.kdeplot, \"core_rf\", fill=True, alpha=1, linewidth=1.5, clip_on=False)\n",
    "\n",
    "# passing color=None to refline() uses the hue mapping\n",
    "g.refline(y=0, linewidth=1, linestyle=\"-\", color=None, clip_on=False)\n",
    "g.set(xlim=(0,1))\n",
    "\n",
    "\n",
    "# Define and use a simple function to label the plot in axes coordinates\n",
    "def label(x, color, label):\n",
    "    ax = plt.gca()\n",
    "    ax.text(0, .5, label, fontweight=\"bold\", color=color, ha=\"left\", va=\"center\", transform=ax.transAxes)\n",
    "\n",
    "g.map(label, \"core_rf\")\n",
    "\n",
    "# Set the subplots to overlap\n",
    "g.figure.subplots_adjust(hspace=0.5)\n",
    "g.set_titles(\"\")\n",
    "g.set(yticks=[], ylabel=\"\", xlabel=\"$d_{Core}$\")\n",
    "g.despine(bottom=True, left=True)"
   ]
  },
  {
   "cell_type": "code",
   "execution_count": null,
   "metadata": {},
   "outputs": [],
   "source": []
  }
 ],
 "metadata": {
  "kernelspec": {
   "display_name": "Python 3 (ipykernel)",
   "language": "python",
   "name": "python3"
  },
  "language_info": {
   "codemirror_mode": {
    "name": "ipython",
    "version": 3
   },
   "file_extension": ".py",
   "mimetype": "text/x-python",
   "name": "python",
   "nbconvert_exporter": "python",
   "pygments_lexer": "ipython3",
   "version": "3.10.8"
  },
  "toc": {
   "base_numbering": 1,
   "nav_menu": {},
   "number_sections": true,
   "sideBar": true,
   "skip_h1_title": false,
   "title_cell": "Table of Contents",
   "title_sidebar": "Contents",
   "toc_cell": false,
   "toc_position": {},
   "toc_section_display": true,
   "toc_window_display": false
  }
 },
 "nbformat": 4,
 "nbformat_minor": 1
}
