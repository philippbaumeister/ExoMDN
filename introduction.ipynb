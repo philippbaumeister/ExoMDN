{
 "cells": [
  {
   "cell_type": "markdown",
   "metadata": {},
   "source": [
    "<img src=\"banner.png\" width=500 style=\"margin-left:0; margin-right:auto; padding: 20px\"/>\n",
    "\n",
    "This notebook provides an introduction to ExoMDN, a machine-learning based model for the rapid characterization of exoplanet interiors. ExoMDN is based on Mixture Density Networks (MDNs), which output a mixture of Gaussian functions in order to approximate the distribution of interior structures which fit e.g. observed planet mass and planet radius.\n",
    "\n",
    "For more details, see Baumeister and Tosi 2023\n",
    "\n",
    "Contact: <philipp.baumeister@dlr.de>"
   ]
  },
  {
   "cell_type": "code",
   "execution_count": null,
   "metadata": {
    "ExecuteTime": {
     "end_time": "2023-07-12T13:26:22.400955Z",
     "start_time": "2023-07-12T13:26:18.323642Z"
    }
   },
   "outputs": [],
   "source": [
    "from exomdn import ExoMDN\n",
    "from exomdn.plotting import cornerplot, cornerplot_logratios"
   ]
  },
  {
   "cell_type": "markdown",
   "metadata": {},
   "source": [
    "# Setting up\n",
    "</br>\n",
    "Let's start by creating a new <code>ExoMDN</code> object. <code>ExoMDN</code> handles the MDN models and includes interactive widgets to facilitate loading models and running predictions."
   ]
  },
  {
   "cell_type": "code",
   "execution_count": null,
   "metadata": {
    "ExecuteTime": {
     "end_time": "2023-07-12T13:26:22.405984Z",
     "start_time": "2023-07-12T13:26:22.403184Z"
    }
   },
   "outputs": [],
   "source": [
    "exo = ExoMDN(model_path=\"./models\", data_path=\"./data\")"
   ]
  },
  {
   "cell_type": "markdown",
   "metadata": {},
   "source": [
    "# Loading a trained model\n",
    "</br>\n",
    "Next, we need to load a trained MDN model which we want to use for the interior prediction. To simplify things, we will use the included <code>load_model_widget</code>, which allows to interactively select which model to load. By default, <code>ExoMDN</code> searches for models in the  <i>./models</i> path. This can be changed by setting <code>exomdn.model_path</code>\n",
    "\n",
    "By default, two models are available:\n",
    "\n",
    "* ***mass_radius_Teq*** (takes planet mass, radius, and equilibrium temperature as inputs)\n",
    "* ***mass_radius_k2_Teq*** (takes planet mass, radius, fluid Love number $k_2$ and equilibrium temperature as inputs)"
   ]
  },
  {
   "cell_type": "code",
   "execution_count": null,
   "metadata": {
    "ExecuteTime": {
     "end_time": "2023-07-12T13:26:22.434958Z",
     "start_time": "2023-07-12T13:26:22.407889Z"
    }
   },
   "outputs": [],
   "source": [
    "exo.load_model_widget"
   ]
  },
  {
   "cell_type": "markdown",
   "metadata": {},
   "source": [
    "# Making an interior prediction\n",
    "</br>\n",
    "<code>ExoMDN</code> provides a custom widget to run a prediction for a single planet. The output of the MDN is in terms of a distribution of log-ratios of the mass and radius fractions of each interior layer of the planet. To convert to mass and radius fractions, the model samples from the distribution and transforms each point. The number of samples can be specified in the \"Options\" section of the widget.\n",
    "</br>\n",
    "</br>\n",
    "Uncertainties can be included by ticking the checkbox in \"Planet parameters\". The model then first samples a number of times from within the error bars (how often can be set with the \"Uncertainty samples\" option) and predicts an interior distribution from each. From each of these predictions a number of points is then sampled so that the total number fits as closely as possible to the specified total number of samples (e.g. with the default values of 10 000 total samples and 1000 uncertainty samples, the model predicts 1000 distributions from within the error bars and then samples 10 times from each predicted distribution to get to the total of 10 000)"
   ]
  },
  {
   "cell_type": "code",
   "execution_count": null,
   "metadata": {
    "ExecuteTime": {
     "end_time": "2023-07-12T13:26:29.573724Z",
     "start_time": "2023-07-12T13:26:29.485600Z"
    }
   },
   "outputs": [],
   "source": [
    "exo.prediction_widget"
   ]
  },
  {
   "cell_type": "markdown",
   "metadata": {
    "ExecuteTime": {
     "end_time": "2023-02-07T15:19:57.174930Z",
     "start_time": "2023-02-07T15:19:57.160145Z"
    }
   },
   "source": [
    "The output of the prediction widget is saved in <code>ExoMDN</code> in the form of [pandas DataFrames](https://pandas.pydata.org/docs/reference/api/pandas.DataFrame.html) as follows:\n",
    "\n",
    "* `exomdn.input_prompt` contains the input(s) to the prediction\n",
    "* `exomdn.prediction` contains the predicted samples of the interior\n",
    "* `exomdn.mixture_components` contains the means, variances, and mixture weights of the predicted Gaussian mixture"
   ]
  },
  {
   "cell_type": "code",
   "execution_count": null,
   "metadata": {
    "ExecuteTime": {
     "end_time": "2023-07-11T09:14:01.183948Z",
     "start_time": "2023-07-11T09:14:01.101784Z"
    }
   },
   "outputs": [],
   "source": [
    "print(f\"Length of input: {len(exo.input_prompt)}\")\n",
    "print(f\"Number of mixture components: {len(exo.mixture_components)}\")\n",
    "print(\"=\" * 40)\n",
    "print(\"Prediction Summary:\")\n",
    "exo.prediction.describe()"
   ]
  },
  {
   "cell_type": "code",
   "execution_count": null,
   "metadata": {
    "ExecuteTime": {
     "end_time": "2023-07-11T09:14:07.235806Z",
     "start_time": "2023-07-11T09:14:07.179234Z"
    }
   },
   "outputs": [],
   "source": [
    "exo.mixture_components"
   ]
  },
  {
   "cell_type": "markdown",
   "metadata": {},
   "source": [
    "# Visualization"
   ]
  },
  {
   "cell_type": "markdown",
   "metadata": {},
   "source": [
    "We can visualize the output of the MDN with the `cornerplot_logratios` function. It takes as input the prediction data, the mixture components, and the log-ratio data columns one wants to visualize (' (`exo.rf_logratios` for radius fractions, `exo.mf_logratios` for mass fractions, `exo.logratios` for both).\n",
    "\n",
    "The upper right plots also show the distribution of Gaussian kernels as predicted by the MDN, where the colors mark the respective weight in the distribution."
   ]
  },
  {
   "cell_type": "code",
   "execution_count": null,
   "metadata": {
    "ExecuteTime": {
     "end_time": "2023-07-11T09:15:14.058860Z",
     "start_time": "2023-07-11T09:15:11.098698Z"
    }
   },
   "outputs": [],
   "source": [
    "# showing radius fractions\n",
    "cornerplot_logratios(data=exo.prediction, data_components=exo.mixture_components, columns=exo.rf_logratios, height=2)\n",
    "\n",
    "# showing mass fractions\n",
    "# cornerplot_logratios(data=exomdn.prediction, data_components=exomdn.mixture_components, columns=exomdn.mf_logratios, height=2)\n",
    "\n",
    "# showing both radius and mass fractions\n",
    "# cornerplot_logratios(data=exomdn.prediction, data_components=exomdn.mixture_components, columns=exomdn.logratios, height=1.5)"
   ]
  },
  {
   "cell_type": "markdown",
   "metadata": {},
   "source": [
    "The `cornerplot` function can be used to show the predicted interior in terms of true radius and mass fractions instead of log-ratios."
   ]
  },
  {
   "cell_type": "code",
   "execution_count": null,
   "metadata": {
    "ExecuteTime": {
     "end_time": "2023-07-11T09:15:30.225426Z",
     "start_time": "2023-07-11T09:15:28.318555Z"
    }
   },
   "outputs": [],
   "source": [
    "# showing radius fractions\n",
    "cornerplot(data=exo.prediction, columns=exo.rf, height=2)\n",
    "\n",
    "# showing mass fractions\n",
    "# cornerplot(data=exomdn.prediction, columns=exomdn.mf, height=2)"
   ]
  },
  {
   "cell_type": "code",
   "execution_count": null,
   "metadata": {},
   "outputs": [],
   "source": []
  }
 ],
 "metadata": {
  "kernelspec": {
   "display_name": "Python 3 (ipykernel)",
   "language": "python",
   "name": "python3"
  },
  "language_info": {
   "codemirror_mode": {
    "name": "ipython",
    "version": 3
   },
   "file_extension": ".py",
   "mimetype": "text/x-python",
   "name": "python",
   "nbconvert_exporter": "python",
   "pygments_lexer": "ipython3",
   "version": "3.10.8"
  },
  "toc": {
   "base_numbering": 1,
   "nav_menu": {},
   "number_sections": true,
   "sideBar": true,
   "skip_h1_title": false,
   "title_cell": "Table of Contents",
   "title_sidebar": "Contents",
   "toc_cell": false,
   "toc_position": {},
   "toc_section_display": true,
   "toc_window_display": false
  }
 },
 "nbformat": 4,
 "nbformat_minor": 4
}
